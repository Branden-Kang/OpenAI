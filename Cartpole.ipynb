{
  "nbformat": 4,
  "nbformat_minor": 0,
  "metadata": {
    "colab": {
      "name": "Cartpole.ipynb",
      "provenance": [],
      "collapsed_sections": [],
      "machine_shape": "hm"
    },
    "kernelspec": {
      "name": "python3",
      "display_name": "Python 3"
    },
    "accelerator": "GPU"
  },
  "cells": [
    {
      "cell_type": "markdown",
      "metadata": {
        "id": "NuMLAEzOXRgJ",
        "colab_type": "text"
      },
      "source": [
        "# Let's do Cartpole gym:)\n",
        "https://stackoverflow.com/questions/50107530/how-to-render-openai-gym-in-google-colab"
      ]
    },
    {
      "cell_type": "markdown",
      "metadata": {
        "id": "H0l1nWzn0SPz",
        "colab_type": "text"
      },
      "source": [
        "# Prerequites\n",
        "It is needed for displaying the openAI in google colab"
      ]
    },
    {
      "cell_type": "code",
      "metadata": {
        "id": "BhY1Ysjl0PFh",
        "colab_type": "code",
        "outputId": "87157ee8-33ed-4808-a698-1b34c21f7116",
        "colab": {
          "base_uri": "https://localhost:8080/",
          "height": 51
        }
      },
      "source": [
        "!apt-get install -y xvfb python-opengl > /dev/null 2>&1\n",
        "!apt-get install x11-utils > /dev/null 2>&1\n",
        "!pip install gym pyvirtualdisplay > /dev/null 2>&1\n",
        "!pip install pyglet==v1.3.2"
      ],
      "execution_count": 0,
      "outputs": [
        {
          "output_type": "stream",
          "text": [
            "Requirement already satisfied: pyglet==v1.3.2 in /usr/local/lib/python3.6/dist-packages (1.3.2)\n",
            "Requirement already satisfied: future in /usr/local/lib/python3.6/dist-packages (from pyglet==v1.3.2) (0.16.0)\n"
          ],
          "name": "stdout"
        }
      ]
    },
    {
      "cell_type": "markdown",
      "metadata": {
        "id": "mC0pnh4L4HwZ",
        "colab_type": "text"
      },
      "source": [
        "# Import Packages/Basic settings for Cartpole"
      ]
    },
    {
      "cell_type": "code",
      "metadata": {
        "id": "8QmsNIlKaf3_",
        "colab_type": "code",
        "colab": {}
      },
      "source": [
        "# Basic packages\n",
        "import gym\n",
        "from gym import wrappers\n",
        "import numpy as np\n",
        "from collections import deque\n",
        "import matplotlib.pyplot as plt\n",
        "import math\n",
        "import random\n",
        "import matplotlib\n",
        "from PIL import Image\n",
        "# Keras packages\n",
        "import keras\n",
        "from keras.models import Sequential\n",
        "from keras.layers import Dense\n",
        "from keras.optimizers import Adam\n",
        "# Display packages\n",
        "from IPython import display as ipythondisplay\n",
        "from pyvirtualdisplay import Display\n",
        "import matplotlib.animation\n",
        "from IPython.display import HTML\n",
        "# Driver Package\n",
        "import os\n",
        "from google.colab import drive"
      ],
      "execution_count": 0,
      "outputs": []
    },
    {
      "cell_type": "code",
      "metadata": {
        "id": "LwNF-QMfm38e",
        "colab_type": "code",
        "outputId": "365b0a59-87d2-4eca-ed3b-c222e3e6878e",
        "colab": {
          "base_uri": "https://localhost:8080/",
          "height": 547
        }
      },
      "source": [
        "drive.mount('/content/gdrive', force_remount=True)\n",
        "!pwd\n",
        "os.chdir('gdrive/Shared drives/Reinforcement Learning/Cartpole')\n",
        "!pwd\n",
        "!ls"
      ],
      "execution_count": 0,
      "outputs": [
        {
          "output_type": "stream",
          "text": [
            "Go to this URL in a browser: https://accounts.google.com/o/oauth2/auth?client_id=947318989803-6bn6qk8qdgf4n4g3pfee6491hc0brc4i.apps.googleusercontent.com&redirect_uri=urn%3aietf%3awg%3aoauth%3a2.0%3aoob&response_type=code&scope=email%20https%3a%2f%2fwww.googleapis.com%2fauth%2fdocs.test%20https%3a%2f%2fwww.googleapis.com%2fauth%2fdrive%20https%3a%2f%2fwww.googleapis.com%2fauth%2fdrive.photos.readonly%20https%3a%2f%2fwww.googleapis.com%2fauth%2fpeopleapi.readonly\n",
            "\n",
            "Enter your authorization code:\n",
            "··········\n",
            "Mounted at /content/gdrive\n",
            "/content\n",
            "/content/gdrive/Shared drives/Reinforcement Learning/Cartpole\n",
            " Cartpole_keras.ipynb\n",
            " Cartpole_Moving_Average_Reward_b128.PNG\n",
            " Cartpole_Moving_Average_Reward_b16.PNG\n",
            " Cartpole_Moving_Average_Reward_b32.PNG\n",
            " Cartpole_Moving_Average_Reward_b64_.PNG\n",
            "'Cartpole_Moving_Average_Reward(Episode_403).PNG'\n",
            " Cartpole_NEW.ipynb\n",
            " Cartpole_pytorch_b128.ipynb\n",
            " Cartpole_pytorch_b16.ipynb\n",
            " Cartpole_pytorch_b32.ipynb\n",
            " Cartpole_pytorch_b64.ipynb\n",
            " Cartpole_pytorch_Different_CNN_layers.ipynb\n",
            " Cartpole_pytorch.ipynb\n",
            " Cartpole_Reward_b128.PNG\n",
            " Cartpole_Reward_b16.PNG\n",
            " Cartpole_Reward_b32.PNG\n",
            " Cartpole_Reward_b64_.PNG\n",
            " Cartpole_Reward_b64.PNG\n",
            "'Cartpole_Reward(Episode_403).PNG'\n",
            " Moving_Average_16.PNG\n",
            " noise.avi\n",
            " save\n",
            " tmp\n"
          ],
          "name": "stdout"
        }
      ]
    },
    {
      "cell_type": "code",
      "metadata": {
        "id": "3AIJAyoYd3dZ",
        "colab_type": "code",
        "outputId": "09c10b20-a581-4217-95db-10e3a4dca0b9",
        "colab": {
          "base_uri": "https://localhost:8080/",
          "height": 54
        }
      },
      "source": [
        "# Display setting\n",
        "display = Display(visible=0, size=(400, 300))\n",
        "display.start()"
      ],
      "execution_count": 0,
      "outputs": [
        {
          "output_type": "execute_result",
          "data": {
            "text/plain": [
              "<Display cmd_param=['Xvfb', '-br', '-nolisten', 'tcp', '-screen', '0', '400x300x24', ':1005'] cmd=['Xvfb', '-br', '-nolisten', 'tcp', '-screen', '0', '400x300x24', ':1005'] oserror=None return_code=None stdout=\"None\" stderr=\"None\" timeout_happened=False>"
            ]
          },
          "metadata": {
            "tags": []
          },
          "execution_count": 6
        }
      ]
    },
    {
      "cell_type": "code",
      "metadata": {
        "id": "5K-6N1cOV7Ux",
        "colab_type": "code",
        "colab": {}
      },
      "source": [
        "env = gym.make('CartPole-v0').unwrapped"
      ],
      "execution_count": 0,
      "outputs": []
    },
    {
      "cell_type": "markdown",
      "metadata": {
        "id": "Ida3NhPHWLVP",
        "colab_type": "text"
      },
      "source": [
        "## Replay Memory\n",
        "\n",
        "We’ll be using experience replay memory for training our DQN. It stores the transitions that the agent observes, allowing us to reuse this data later. By sampling from it randomly, the transitions that build up a batch are decorrelated. It has been shown that this greatly stabilizes and improves the DQN training procedure.\n",
        "\n",
        "For this, we’re going to need two classses:\n",
        "\n",
        "- Transition - a named tuple representing a single transition in our environment. It essentially maps (state, action) pairs to their (next_state, reward) result, with the state being the screen difference image as described later on. <br>\n",
        "- ReplayMemory - a cyclic buffer of bounded size that holds the transitions observed recently. It also implements a .sample() method for selecting a random batch of transitions for training."
      ]
    },
    {
      "cell_type": "code",
      "metadata": {
        "id": "vGxpKpDbj31v",
        "colab_type": "code",
        "colab": {}
      },
      "source": [
        "class ReplayMemory():\n",
        "    def __init__(self, max_size):\n",
        "        self.max_size = max_size\n",
        "        self.transitions = deque()\n",
        "    def add(self, state, action, reward, state2):\n",
        "        if len(self.transitions) > self.max_size:\n",
        "            self.transitions.popleft()\n",
        "        self.transitions.append((state, action, reward, state2))\n",
        "    def sample(self, count):\n",
        "        return random.sample(self.transitions, count)\n",
        "    def size(self):\n",
        "        return len(self.transitions)"
      ],
      "execution_count": 0,
      "outputs": []
    },
    {
      "cell_type": "markdown",
      "metadata": {
        "id": "eFDBO4C_WUOv",
        "colab_type": "text"
      },
      "source": [
        "## DQN algorithm\n",
        "\n",
        "Our environment is deterministic, so all equations presented here are also formulated deterministically for the sake of simplicity. In the reinforcement learning literature, they would also contain expectations over stochastic transitions in the environment."
      ]
    },
    {
      "cell_type": "code",
      "metadata": {
        "id": "CTO44rOVkpsp",
        "colab_type": "code",
        "colab": {}
      },
      "source": [
        "def DQN():\n",
        "    model = Sequential()\n",
        "    model.add(Dense(16, input_shape=(4, ), activation='relu'))\n",
        "    model.add(Dense(16, input_shape=(4,), activation='relu'))\n",
        "    model.add(Dense(2, activation='linear'))\n",
        "    model.compile(optimizer=Adam(lr=LR),loss='mse',metrics=[],)\n",
        "    return model"
      ],
      "execution_count": 0,
      "outputs": []
    },
    {
      "cell_type": "markdown",
      "metadata": {
        "id": "UrMN8CuQXVLg",
        "colab_type": "text"
      },
      "source": [
        "# Hyperparamter Tuning\n",
        "We try to change the parameter to optimize our agent and the evaulation study can be found below."
      ]
    },
    {
      "cell_type": "code",
      "metadata": {
        "id": "8YbMXaWkj_AM",
        "colab_type": "code",
        "colab": {}
      },
      "source": [
        "LR = 0.001 # optimizer learning rate\n",
        "gamma = 0.99 # discount factor\n",
        "num_episodes = 220 # number of episodes\n",
        "target_update = 100\n",
        "batch_size = 32 # Q-learning batch size\n",
        "epsilon_decay = 0.99 # e-greedy decay value\n",
        "epsilon_start = 1 # e-greedy start value\n",
        "epi_time=[] # Rewards"
      ],
      "execution_count": 0,
      "outputs": []
    },
    {
      "cell_type": "markdown",
      "metadata": {
        "id": "T5FbBRZ-XJnF",
        "colab_type": "text"
      },
      "source": [
        "# Display our model\n",
        "Let's get screen size and initialize layers based on shape from OpenAI gym. "
      ]
    },
    {
      "cell_type": "code",
      "metadata": {
        "id": "LLAkD_q4WZ4t",
        "colab_type": "code",
        "colab": {}
      },
      "source": [
        "# init_screen = display()\n",
        "# _, _, screen_height, screen_width = init_screen.shape"
      ],
      "execution_count": 0,
      "outputs": []
    },
    {
      "cell_type": "markdown",
      "metadata": {
        "id": "v1OvE6_scstP",
        "colab_type": "text"
      },
      "source": [
        "# Run our model\n",
        "Let's run for 220 episodes (took less than 1 hour in  Google Colab) and get some results!"
      ]
    },
    {
      "cell_type": "code",
      "metadata": {
        "id": "87wMT7lA0DZc",
        "colab_type": "code",
        "outputId": "e19a2a5f-4d43-48e1-b223-ff9f88179fba",
        "colab": {
          "base_uri": "https://localhost:8080/",
          "height": 1000
        }
      },
      "source": [
        "#######################################################\n",
        "def get_q(model, state):                              #\n",
        "    obs = np.reshape(state, [-1, 4])                  #\n",
        "    return model.predict(obs)                         #\n",
        "#######################################################\n",
        "def train(model, states, targets):                    #\n",
        "    obs = np.reshape(states, [-1, 4])                 #\n",
        "    targets = np.reshape(targets, [-1, 2])            # \n",
        "    model.fit(obs, targets, epochs=1, verbose=0)      #\n",
        "#######################################################\n",
        "def predict(model, state):                            #\n",
        "    obs = np.reshape(state, [-1, 4])                  #\n",
        "    return model.predict(obs)                         #\n",
        "##########################################################################\n",
        "def q_function(action_model, target_model, sample_transitions):          #\n",
        "    random.shuffle(sample_transitions)                                   #\n",
        "    batch_states = []                                                    #\n",
        "    batch_targets = []                                                   #\n",
        "    for sample_transition in sample_transitions:                         #\n",
        "        old_state, action, reward, state = sample_transition             #\n",
        "        targets = np.reshape(get_q(action_model, old_state), 2)          #\n",
        "        targets[action] = reward                                         #\n",
        "        if state is not None:                                            #\n",
        "            predictions = predict(target_model, state)                   #\n",
        "            new_action = np.argmax(predictions)                          #\n",
        "            targets[action] += gamma * predictions[0, new_action]        # \n",
        "        batch_states.append(old_state)                                   #\n",
        "        batch_targets.append(targets)                                    #\n",
        "        train(action_model, batch_states, batch_targets)                 #\n",
        "##########################################################################\n",
        "steps_until_reset = target_update\n",
        "epsilon_threshold = epsilon_start\n",
        "###################################################\n",
        "# Step 1. Initialize the replay memory to capacity N.\n",
        "replay = ReplayMemory(1000)\n",
        "##############################################################################################\n",
        "# Step 2,3. Initialize the target action-value function \\theta_ with the weights \\theta_ = \\theta and action-value function with random \\theta\n",
        "action_model = DQN()\n",
        "env = gym.make('CartPole-v0')\n",
        "env = wrappers.Monitor(env, '/tmp/cartpole-experiment-1')\n",
        "#############################################\n",
        "# Step 4. Looping over the episodes, Episodic\n",
        "for episode in range(num_episodes):\n",
        "#############################################################\n",
        "# Step 5. Initialize sequence 's' and preprocess sequence \\phi\n",
        "    state = env.reset()\n",
        "    for iteration in range(10**6):\n",
        "        epsilon_threshold *= epsilon_decay\n",
        "        epsilon_threshold = max(epsilon_threshold, 0.1)\n",
        "        old_state = state\n",
        "        ########################################################\n",
        "        # Step 6. Probability \\epsilon selection a random action.\n",
        "        if np.random.random() < epsilon_threshold:\n",
        "            action = np.random.choice(range(2))\n",
        "        else:\n",
        "            q_values = get_q(action_model, state)\n",
        "            action = np.argmax(q_values)\n",
        "        ###################################################################################\n",
        "        # Step 7. Execute action 'a' in emulator and observe the reward 'r' and image x(i+1)\n",
        "        state, reward, done, info = env.step(action)\n",
        "        if done:\n",
        "            # Print the rewards\n",
        "            print(\"Episode: \",episode, \"|| Reward :\", iteration)\n",
        "            epi_time.append(iteration)\n",
        "            reward = -200\n",
        "            ##########################################################\n",
        "            # Step 8. Update state 's', image 'x', and preprocess \\phi\n",
        "            replay.add(old_state, action, reward, None)\n",
        "            break\n",
        "        ###############################################\n",
        "        # Step 9. Store the transition in the memory [D]\n",
        "        replay.add(old_state, action, reward, state)      \n",
        "        if replay.size() >= batch_size:\n",
        "            ##################################################\n",
        "            # Step 10. Sample random mini-batch for transition\n",
        "            sample_transitions = replay.sample(batch_size)\n",
        "            #######################################################\n",
        "            # Step 11. Q-function update: Update the target network\n",
        "            q_function(action_model, action_model, sample_transitions)\n",
        "            steps_until_reset -= 1"
      ],
      "execution_count": 0,
      "outputs": [
        {
          "output_type": "stream",
          "text": [
            "Using TensorFlow backend.\n"
          ],
          "name": "stderr"
        },
        {
          "output_type": "display_data",
          "data": {
            "text/html": [
              "<p style=\"color: red;\">\n",
              "The default version of TensorFlow in Colab will soon switch to TensorFlow 2.x.<br>\n",
              "We recommend you <a href=\"https://www.tensorflow.org/guide/migrate\" target=\"_blank\">upgrade</a> now \n",
              "or ensure your notebook will continue to use TensorFlow 1.x via the <code>%tensorflow_version 1.x</code> magic:\n",
              "<a href=\"https://colab.research.google.com/notebooks/tensorflow_version.ipynb\" target=\"_blank\">more info</a>.</p>\n"
            ],
            "text/plain": [
              "<IPython.core.display.HTML object>"
            ]
          },
          "metadata": {
            "tags": []
          }
        },
        {
          "output_type": "stream",
          "text": [
            "WARNING:tensorflow:From /usr/local/lib/python3.6/dist-packages/keras/backend/tensorflow_backend.py:66: The name tf.get_default_graph is deprecated. Please use tf.compat.v1.get_default_graph instead.\n",
            "\n",
            "WARNING:tensorflow:From /usr/local/lib/python3.6/dist-packages/keras/backend/tensorflow_backend.py:541: The name tf.placeholder is deprecated. Please use tf.compat.v1.placeholder instead.\n",
            "\n",
            "WARNING:tensorflow:From /usr/local/lib/python3.6/dist-packages/keras/backend/tensorflow_backend.py:4432: The name tf.random_uniform is deprecated. Please use tf.random.uniform instead.\n",
            "\n",
            "WARNING:tensorflow:From /usr/local/lib/python3.6/dist-packages/keras/optimizers.py:793: The name tf.train.Optimizer is deprecated. Please use tf.compat.v1.train.Optimizer instead.\n",
            "\n",
            "WARNING:tensorflow:From /usr/local/lib/python3.6/dist-packages/keras/backend/tensorflow_backend.py:3005: The name tf.Session is deprecated. Please use tf.compat.v1.Session instead.\n",
            "\n",
            "WARNING:tensorflow:From /usr/local/lib/python3.6/dist-packages/keras/backend/tensorflow_backend.py:190: The name tf.get_default_session is deprecated. Please use tf.compat.v1.get_default_session instead.\n",
            "\n",
            "WARNING:tensorflow:From /usr/local/lib/python3.6/dist-packages/keras/backend/tensorflow_backend.py:197: The name tf.ConfigProto is deprecated. Please use tf.compat.v1.ConfigProto instead.\n",
            "\n",
            "WARNING:tensorflow:From /usr/local/lib/python3.6/dist-packages/keras/backend/tensorflow_backend.py:207: The name tf.global_variables is deprecated. Please use tf.compat.v1.global_variables instead.\n",
            "\n",
            "WARNING:tensorflow:From /usr/local/lib/python3.6/dist-packages/keras/backend/tensorflow_backend.py:216: The name tf.is_variable_initialized is deprecated. Please use tf.compat.v1.is_variable_initialized instead.\n",
            "\n",
            "WARNING:tensorflow:From /usr/local/lib/python3.6/dist-packages/keras/backend/tensorflow_backend.py:223: The name tf.variables_initializer is deprecated. Please use tf.compat.v1.variables_initializer instead.\n",
            "\n",
            "Episode:  0  iterations: 16\n",
            "WARNING:tensorflow:From /usr/local/lib/python3.6/dist-packages/keras/backend/tensorflow_backend.py:1033: The name tf.assign_add is deprecated. Please use tf.compat.v1.assign_add instead.\n",
            "\n",
            "WARNING:tensorflow:From /usr/local/lib/python3.6/dist-packages/keras/backend/tensorflow_backend.py:1020: The name tf.assign is deprecated. Please use tf.compat.v1.assign instead.\n",
            "\n",
            "Episode:  1  iterations: 18\n",
            "Episode:  2  iterations: 17\n",
            "Episode:  3  iterations: 10\n",
            "Episode:  4  iterations: 8\n",
            "Episode:  5  iterations: 10\n",
            "Episode:  6  iterations: 11\n",
            "Episode:  7  iterations: 8\n",
            "Episode:  8  iterations: 8\n",
            "Episode:  9  iterations: 8\n",
            "Episode:  10  iterations: 9\n",
            "Episode:  11  iterations: 10\n",
            "Episode:  12  iterations: 12\n",
            "Episode:  13  iterations: 8\n",
            "Episode:  14  iterations: 12\n",
            "Episode:  15  iterations: 12\n",
            "Episode:  16  iterations: 10\n",
            "Episode:  17  iterations: 8\n",
            "Episode:  18  iterations: 8\n",
            "Episode:  19  iterations: 9\n",
            "Episode:  20  iterations: 9\n",
            "Episode:  21  iterations: 12\n",
            "Episode:  22  iterations: 9\n",
            "Episode:  23  iterations: 8\n",
            "Episode:  24  iterations: 11\n",
            "Episode:  25  iterations: 9\n",
            "Episode:  26  iterations: 9\n",
            "Episode:  27  iterations: 8\n",
            "Episode:  28  iterations: 8\n",
            "Episode:  29  iterations: 7\n",
            "Episode:  30  iterations: 8\n",
            "Episode:  31  iterations: 7\n",
            "Episode:  32  iterations: 9\n",
            "Episode:  33  iterations: 8\n",
            "Episode:  34  iterations: 9\n",
            "Episode:  35  iterations: 8\n",
            "Episode:  36  iterations: 9\n",
            "Episode:  37  iterations: 9\n",
            "Episode:  38  iterations: 8\n",
            "Episode:  39  iterations: 7\n",
            "Episode:  40  iterations: 9\n",
            "Episode:  41  iterations: 11\n",
            "Episode:  42  iterations: 10\n",
            "Episode:  43  iterations: 8\n",
            "Episode:  44  iterations: 20\n",
            "Episode:  45  iterations: 9\n",
            "Episode:  46  iterations: 9\n",
            "Episode:  47  iterations: 11\n",
            "Episode:  48  iterations: 9\n",
            "Episode:  49  iterations: 9\n",
            "Episode:  50  iterations: 9\n",
            "Episode:  51  iterations: 10\n",
            "Episode:  52  iterations: 10\n",
            "Episode:  53  iterations: 11\n",
            "Episode:  54  iterations: 9\n",
            "Episode:  55  iterations: 37\n",
            "Episode:  56  iterations: 26\n",
            "Episode:  57  iterations: 22\n",
            "Episode:  58  iterations: 16\n",
            "Episode:  59  iterations: 16\n",
            "Episode:  60  iterations: 19\n",
            "Episode:  61  iterations: 14\n",
            "Episode:  62  iterations: 13\n",
            "Episode:  63  iterations: 13\n",
            "Episode:  64  iterations: 13\n",
            "Episode:  65  iterations: 12\n",
            "Episode:  66  iterations: 12\n",
            "Episode:  67  iterations: 9\n",
            "Episode:  68  iterations: 13\n",
            "Episode:  69  iterations: 9\n",
            "Episode:  70  iterations: 12\n",
            "Episode:  71  iterations: 12\n",
            "Episode:  72  iterations: 11\n",
            "Episode:  73  iterations: 15\n",
            "Episode:  74  iterations: 10\n",
            "Episode:  75  iterations: 9\n",
            "Episode:  76  iterations: 8\n",
            "Episode:  77  iterations: 10\n",
            "Episode:  78  iterations: 11\n",
            "Episode:  79  iterations: 15\n",
            "Episode:  80  iterations: 21\n",
            "Episode:  81  iterations: 20\n",
            "Episode:  82  iterations: 16\n",
            "Episode:  83  iterations: 24\n",
            "Episode:  84  iterations: 35\n",
            "Episode:  85  iterations: 30\n",
            "Episode:  86  iterations: 40\n",
            "Episode:  87  iterations: 48\n",
            "Episode:  88  iterations: 36\n",
            "Episode:  89  iterations: 121\n",
            "Episode:  90  iterations: 42\n",
            "Episode:  91  iterations: 113\n",
            "Episode:  92  iterations: 55\n",
            "Episode:  93  iterations: 154\n",
            "Episode:  94  iterations: 61\n",
            "Episode:  95  iterations: 117\n",
            "Episode:  96  iterations: 137\n",
            "Episode:  97  iterations: 52\n",
            "Episode:  98  iterations: 171\n",
            "Episode:  99  iterations: 67\n",
            "Episode:  100  iterations: 99\n",
            "Episode:  101  iterations: 70\n",
            "Episode:  102  iterations: 142\n",
            "Episode:  103  iterations: 46\n",
            "Episode:  104  iterations: 64\n",
            "Episode:  105  iterations: 82\n",
            "Episode:  106  iterations: 62\n",
            "Episode:  107  iterations: 78\n",
            "Episode:  108  iterations: 48\n",
            "Episode:  109  iterations: 36\n",
            "Episode:  110  iterations: 37\n",
            "Episode:  111  iterations: 113\n",
            "Episode:  112  iterations: 44\n",
            "Episode:  113  iterations: 59\n",
            "Episode:  114  iterations: 29\n",
            "Episode:  115  iterations: 42\n",
            "Episode:  116  iterations: 45\n",
            "Episode:  117  iterations: 34\n",
            "Episode:  118  iterations: 60\n",
            "Episode:  119  iterations: 50\n",
            "Episode:  120  iterations: 112\n",
            "Episode:  121  iterations: 114\n",
            "Episode:  122  iterations: 67\n",
            "Episode:  123  iterations: 97\n",
            "Episode:  124  iterations: 88\n",
            "Episode:  125  iterations: 131\n",
            "Episode:  126  iterations: 130\n",
            "Episode:  127  iterations: 96\n",
            "Episode:  128  iterations: 46\n",
            "Episode:  129  iterations: 45\n",
            "Episode:  130  iterations: 67\n",
            "Episode:  131  iterations: 45\n",
            "Episode:  132  iterations: 75\n",
            "Episode:  133  iterations: 48\n",
            "Episode:  134  iterations: 114\n",
            "Episode:  135  iterations: 38\n",
            "Episode:  136  iterations: 48\n",
            "Episode:  137  iterations: 47\n",
            "Episode:  138  iterations: 52\n",
            "Episode:  139  iterations: 50\n",
            "Episode:  140  iterations: 59\n",
            "Episode:  141  iterations: 55\n",
            "Episode:  142  iterations: 62\n",
            "Episode:  143  iterations: 72\n",
            "Episode:  144  iterations: 63\n",
            "Episode:  145  iterations: 39\n",
            "Episode:  146  iterations: 45\n",
            "Episode:  147  iterations: 50\n",
            "Episode:  148  iterations: 34\n",
            "Episode:  149  iterations: 53\n",
            "Episode:  150  iterations: 36\n",
            "Episode:  151  iterations: 28\n",
            "Episode:  152  iterations: 52\n",
            "Episode:  153  iterations: 68\n",
            "Episode:  154  iterations: 77\n",
            "Episode:  155  iterations: 44\n",
            "Episode:  156  iterations: 56\n",
            "Episode:  157  iterations: 50\n",
            "Episode:  158  iterations: 59\n",
            "Episode:  159  iterations: 54\n",
            "Episode:  160  iterations: 44\n",
            "Episode:  161  iterations: 61\n",
            "Episode:  162  iterations: 44\n",
            "Episode:  163  iterations: 65\n",
            "Episode:  164  iterations: 41\n",
            "Episode:  165  iterations: 50\n",
            "Episode:  166  iterations: 78\n",
            "Episode:  167  iterations: 85\n",
            "Episode:  168  iterations: 86\n",
            "Episode:  169  iterations: 92\n",
            "Episode:  170  iterations: 63\n",
            "Episode:  171  iterations: 91\n",
            "Episode:  172  iterations: 135\n",
            "Episode:  173  iterations: 77\n",
            "Episode:  174  iterations: 199\n",
            "Episode:  175  iterations: 146\n",
            "Episode:  176  iterations: 81\n",
            "Episode:  177  iterations: 114\n",
            "Episode:  178  iterations: 134\n",
            "Episode:  179  iterations: 86\n",
            "Episode:  180  iterations: 109\n",
            "Episode:  181  iterations: 115\n",
            "Episode:  182  iterations: 141\n",
            "Episode:  183  iterations: 67\n",
            "Episode:  184  iterations: 199\n",
            "Episode:  185  iterations: 199\n",
            "Episode:  186  iterations: 199\n",
            "Episode:  187  iterations: 55\n",
            "Episode:  188  iterations: 161\n",
            "Episode:  189  iterations: 174\n",
            "Episode:  190  iterations: 199\n",
            "Episode:  191  iterations: 199\n",
            "Episode:  192  iterations: 199\n",
            "Episode:  193  iterations: 199\n",
            "Episode:  194  iterations: 35\n",
            "Episode:  195  iterations: 34\n",
            "Episode:  196  iterations: 33\n",
            "Episode:  197  iterations: 59\n",
            "Episode:  198  iterations: 85\n",
            "Episode:  199  iterations: 39\n",
            "Episode:  200  iterations: 117\n",
            "Episode:  201  iterations: 107\n",
            "Episode:  202  iterations: 199\n",
            "Episode:  203  iterations: 162\n",
            "Episode:  204  iterations: 117\n",
            "Episode:  205  iterations: 64\n",
            "Episode:  206  iterations: 50\n",
            "Episode:  207  iterations: 111\n",
            "Episode:  208  iterations: 199\n",
            "Episode:  209  iterations: 199\n",
            "Episode:  210  iterations: 199\n",
            "Episode:  211  iterations: 199\n",
            "Episode:  212  iterations: 199\n",
            "Episode:  213  iterations: 199\n",
            "Episode:  214  iterations: 199\n",
            "Episode:  215  iterations: 199\n",
            "Episode:  216  iterations: 199\n",
            "Episode:  217  iterations: 199\n",
            "Episode:  218  iterations: 199\n",
            "Episode:  219  iterations: 199\n",
            "Episode:  220  iterations: 199\n",
            "Episode:  221  iterations: 199\n",
            "Episode:  222  iterations: 199\n",
            "Episode:  223  iterations: 199\n",
            "Episode:  224  iterations: 199\n",
            "Episode:  225  iterations: 199\n",
            "Episode:  226  iterations: 199\n",
            "Episode:  227  iterations: 119\n",
            "Episode:  228  iterations: 150\n",
            "Episode:  229  iterations: 116\n",
            "Episode:  230  iterations: 148\n",
            "Episode:  231  iterations: 115\n",
            "Episode:  232  iterations: 92\n",
            "Episode:  233  iterations: 89\n",
            "Episode:  234  iterations: 140\n",
            "Episode:  235  iterations: 199\n",
            "Episode:  236  iterations: 199\n",
            "Episode:  237  iterations: 199\n",
            "Episode:  238  iterations: 199\n",
            "Episode:  239  iterations: 199\n",
            "Episode:  240  iterations: 199\n",
            "Episode:  241  iterations: 199\n",
            "Episode:  242  iterations: 199\n",
            "Episode:  243  iterations: 199\n",
            "Episode:  244  iterations: 199\n",
            "Episode:  245  iterations: 199\n",
            "Episode:  246  iterations: 199\n",
            "Episode:  247  iterations: 199\n",
            "Episode:  248  iterations: 199\n",
            "Episode:  249  iterations: 199\n"
          ],
          "name": "stdout"
        }
      ]
    },
    {
      "cell_type": "markdown",
      "metadata": {
        "id": "LwHxCAvShCcv",
        "colab_type": "text"
      },
      "source": [
        "# Plotting the Rewards (including moving average rewards) after each episode"
      ]
    },
    {
      "cell_type": "code",
      "metadata": {
        "id": "4mzChJxj0c6L",
        "colab_type": "code",
        "outputId": "ddb8344d-6eac-43b0-c477-e65a0f684b59",
        "colab": {
          "base_uri": "https://localhost:8080/",
          "height": 652
        }
      },
      "source": [
        "plt.figure()\n",
        "plt.figure(figsize=[12, 10])\n",
        "plt.title('Cartpole solved: average reward goal 195.8',fontsize=20)\n",
        "plt.xlabel('Training Episodes',fontsize=17)\n",
        "plt.ylabel('Episodic Reward',fontsize=17)\n",
        "plt.xlim((0,220))\n",
        "plt.ylim((0,200))\n",
        "plt.grid(True)\n",
        "epi_time = epi_time[:220]\n",
        "plt.plot(epi_time)\n",
        "plt.plot(np.convolve(epi_time,np.ones(10)/10, mode='valid'))\n",
        "\n",
        "plt.legend(['Episodes = 220 , Batch Size = 32'], loc='lower right', fontsize=17)\n",
        "plt.savefig('./Cartpole.PNG', dpi=400)\n",
        "plt.show()"
      ],
      "execution_count": 0,
      "outputs": [
        {
          "output_type": "display_data",
          "data": {
            "text/plain": [
              "<Figure size 432x288 with 0 Axes>"
            ]
          },
          "metadata": {
            "tags": []
          }
        },
        {
          "output_type": "display_data",
          "data": {
            "image/png": "[encoded data removed]",
            "text/plain": [
              "<Figure size 864x720 with 1 Axes>"
            ]
          },
          "metadata": {
            "tags": []
          }
        }
      ]
    }
  ]
}